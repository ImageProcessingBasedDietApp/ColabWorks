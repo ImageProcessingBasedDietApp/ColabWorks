{
  "nbformat": 4,
  "nbformat_minor": 0,
  "metadata": {
    "colab": {
      "name": "suffle_images.ipynb",
      "provenance": [],
      "collapsed_sections": [],
      "toc_visible": true,
      "include_colab_link": true
    },
    "kernelspec": {
      "name": "python3",
      "display_name": "Python 3"
    }
  },
  "cells": [
    {
      "cell_type": "markdown",
      "metadata": {
        "id": "view-in-github",
        "colab_type": "text"
      },
      "source": [
        "<a href=\"https://colab.research.google.com/github/BernaTasel/colabWorks/blob/main/suffle_images.ipynb\" target=\"_parent\"><img src=\"https://colab.research.google.com/assets/colab-badge.svg\" alt=\"Open In Colab\"/></a>"
      ]
    },
    {
      "cell_type": "code",
      "metadata": {
        "id": "bidYF17Xc4Pj"
      },
      "source": [
        "import glob\n",
        "import cv2\n",
        "from google.colab import drive\n",
        "import os"
      ],
      "execution_count": 3,
      "outputs": []
    },
    {
      "cell_type": "code",
      "metadata": {
        "id": "FlHhS6L-c7wC",
        "outputId": "251f32ea-7470-4bf7-bd51-2239211bf31d",
        "colab": {
          "base_uri": "https://localhost:8080/"
        }
      },
      "source": [
        "drive.mount('/content/drive')"
      ],
      "execution_count": 4,
      "outputs": [
        {
          "output_type": "stream",
          "text": [
            "Mounted at /content/drive\n"
          ],
          "name": "stdout"
        }
      ]
    },
    {
      "cell_type": "code",
      "metadata": {
        "id": "31_Md6_tdSSJ"
      },
      "source": [
        "os.mkdir('/content/drive/My Drive/DietApp/PlateDataSet/resized-plate')"
      ],
      "execution_count": null,
      "outputs": []
    },
    {
      "cell_type": "code",
      "metadata": {
        "id": "x5bk9GHfnkUV"
      },
      "source": [
        "import random"
      ],
      "execution_count": null,
      "outputs": []
    },
    {
      "cell_type": "code",
      "metadata": {
        "id": "r1cjoOMPn8qE"
      },
      "source": [
        "RANDOM_SEED = 2018"
      ],
      "execution_count": null,
      "outputs": []
    },
    {
      "cell_type": "code",
      "metadata": {
        "id": "2gShicv6nrb2"
      },
      "source": [
        "shuffler = random.Random(RANDOM_SEED)"
      ],
      "execution_count": null,
      "outputs": []
    },
    {
      "cell_type": "code",
      "metadata": {
        "id": "OIQWjutknzbk"
      },
      "source": [
        "PLATE_DIR = '/drive/My Drive/DietApp/Resized-non-plate'"
      ],
      "execution_count": null,
      "outputs": []
    },
    {
      "cell_type": "code",
      "metadata": {
        "id": "aD7Pq-dmpLCN"
      },
      "source": [
        "import numpy as np\n",
        "from PIL import Image"
      ],
      "execution_count": null,
      "outputs": []
    },
    {
      "cell_type": "code",
      "metadata": {
        "id": "Z3foe9Tfo8d_"
      },
      "source": [
        "i = 0"
      ],
      "execution_count": null,
      "outputs": []
    },
    {
      "cell_type": "code",
      "metadata": {
        "id": "pJTps9juoMY5"
      },
      "source": [
        "files = glob.glob(\"drive/My Drive/DietApp/Resized-non-plate/*\")\n",
        "for img in files:\n",
        "  print(img)\n",
        "  #image = cv2.imread(img)\n",
        "  image = Image.open(img)\n",
        "  image = np.array(image)\n",
        "  i += 1"
      ],
      "execution_count": null,
      "outputs": []
    },
    {
      "cell_type": "code",
      "metadata": {
        "id": "DrcOPhrRqC9e"
      },
      "source": [
        "print(image)"
      ],
      "execution_count": null,
      "outputs": []
    },
    {
      "cell_type": "code",
      "metadata": {
        "id": "mW5OsHMgp1TY"
      },
      "source": [
        "shuffler.shuffle(image)"
      ],
      "execution_count": null,
      "outputs": []
    },
    {
      "cell_type": "code",
      "metadata": {
        "id": "jVFMjIkHqMtG"
      },
      "source": [
        "image"
      ],
      "execution_count": null,
      "outputs": []
    },
    {
      "cell_type": "code",
      "metadata": {
        "id": "Mwr72FVFqOwd"
      },
      "source": [
        "os.mkdir('drive/My Drive/DietApp/suffle')"
      ],
      "execution_count": null,
      "outputs": []
    },
    {
      "cell_type": "code",
      "metadata": {
        "id": "dZhCyl2VqdxV"
      },
      "source": [
        "i = 0"
      ],
      "execution_count": null,
      "outputs": []
    },
    {
      "cell_type": "code",
      "metadata": {
        "id": "tAMrJ-HCqhfU"
      },
      "source": [
        "for img in image:\n",
        "  print(img)\n",
        "  image2 = cv2.imread(img)\n",
        "  #imgResized = cv2.resize(image, (256, 256))\n",
        "  cv2.imwrite(\"drive/My Drive/DietApp/suffle/non-plate%04i.jpg\" %i, imgResized)\n",
        "  i += 1"
      ],
      "execution_count": null,
      "outputs": []
    },
    {
      "cell_type": "code",
      "metadata": {
        "id": "oJuWo2wqqlso"
      },
      "source": [
        "for i in image:\n",
        "  print(i)"
      ],
      "execution_count": null,
      "outputs": []
    },
    {
      "cell_type": "code",
      "metadata": {
        "id": "L9odE2muq8DC"
      },
      "source": [
        "pth = \"drive/My Drive/DietApp/Resized-non-plate\"\n",
        "files = [os.path.join(pth,fle) for fle in os.listdir(pth)]\n",
        "shuffler.shuffle(files)"
      ],
      "execution_count": null,
      "outputs": []
    },
    {
      "cell_type": "code",
      "metadata": {
        "id": "XUS-3kRttnyL"
      },
      "source": [
        "i = 0"
      ],
      "execution_count": null,
      "outputs": []
    },
    {
      "cell_type": "code",
      "metadata": {
        "id": "IZVdFV-qsiDM"
      },
      "source": [
        "for path in paths:\n",
        "    image = cv2.imread(path)\n",
        "    cv2.imwrite(\"drive/My Drive/DietApp/suffle/non-plate-%d.jpg\" %i, image)\n",
        "    i += 1"
      ],
      "execution_count": null,
      "outputs": []
    }
  ]
}