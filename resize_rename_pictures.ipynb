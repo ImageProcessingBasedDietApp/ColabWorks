{
  "nbformat": 4,
  "nbformat_minor": 0,
  "metadata": {
    "colab": {
      "name": "resize_rename_pictures.ipynb",
      "provenance": [],
      "collapsed_sections": [],
      "include_colab_link": true
    },
    "kernelspec": {
      "name": "python3",
      "display_name": "Python 3"
    }
  },
  "cells": [
    {
      "cell_type": "markdown",
      "metadata": {
        "id": "view-in-github",
        "colab_type": "text"
      },
      "source": [
        "<a href=\"https://colab.research.google.com/github/BernaTasel/colabWorks/blob/main/resize_rename_pictures.ipynb\" target=\"_parent\"><img src=\"https://colab.research.google.com/assets/colab-badge.svg\" alt=\"Open In Colab\"/></a>"
      ]
    },
    {
      "cell_type": "code",
      "metadata": {
        "id": "wqg4E9ODXUe1"
      },
      "source": [
        "#Libraries\n",
        "import cv2\n",
        "import glob\n",
        "import os"
      ],
      "execution_count": 2,
      "outputs": []
    },
    {
      "cell_type": "code",
      "metadata": {
        "id": "ihVEMZ7PYCzw",
        "outputId": "3b74e2da-63ac-41f6-87f8-e34e8d5220a5",
        "colab": {
          "base_uri": "https://localhost:8080/"
        }
      },
      "source": [
        "#drive connection\n",
        "from google.colab import drive\n",
        "drive.mount('/content/drive')"
      ],
      "execution_count": 1,
      "outputs": [
        {
          "output_type": "stream",
          "text": [
            "Mounted at /content/drive\n"
          ],
          "name": "stdout"
        }
      ]
    },
    {
      "cell_type": "code",
      "metadata": {
        "id": "79s6A4VzYSZr"
      },
      "source": [
        "#Rename the files\n",
        "import os\n",
        "for count, filename in enumerate(os.listdir(\"/content/drive/My Drive/DietApp/ProjectDataset/salatalık/\")):\n",
        "  dst =\"salatalık-\" + str(count) + \".jpg\"\n",
        "  src ='/content/drive/My Drive/DietApp/ProjectDataset/salatalık/' + filename \n",
        "  dst ='/content/drive/My Drive/DietApp/ProjectDataset/salatalık/'+ dst\n",
        "  os.rename(src, dst) "
      ],
      "execution_count": null,
      "outputs": []
    },
    {
      "cell_type": "code",
      "metadata": {
        "id": "cee5rk7Lou8o"
      },
      "source": [
        "#Rename the files\n",
        "import os\n",
        "for count, filename in enumerate(os.listdir(\"/content/drive/My Drive/DietApp/ProjectDataset/incir/\")):\n",
        "  dst =\"incir-\" + str(count) + \".jpg\"\n",
        "  src ='/content/drive/My Drive/DietApp/ProjectDataset/incir/' + filename \n",
        "  dst ='/content/drive/My Drive/DietApp/ProjectDataset/incir/'+ dst\n",
        "  os.rename(src, dst) "
      ],
      "execution_count": null,
      "outputs": []
    },
    {
      "cell_type": "code",
      "metadata": {
        "id": "BOOqzw3h0-v5",
        "outputId": "e14fb8d8-d5bc-4292-99f6-ced88d7c10e5",
        "colab": {
          "base_uri": "https://localhost:8080/",
          "height": 181
        }
      },
      "source": [
        "#make file\n",
        "os.mkdir('/content/drive/My Drive/DietApp/PlateDataSet/resized-non-plate')"
      ],
      "execution_count": null,
      "outputs": [
        {
          "output_type": "error",
          "ename": "FileExistsError",
          "evalue": "ignored",
          "traceback": [
            "\u001b[0;31m---------------------------------------------------------------------------\u001b[0m",
            "\u001b[0;31mFileExistsError\u001b[0m                           Traceback (most recent call last)",
            "\u001b[0;32m<ipython-input-27-68dcf1ef0273>\u001b[0m in \u001b[0;36m<module>\u001b[0;34m()\u001b[0m\n\u001b[1;32m      1\u001b[0m \u001b[0;31m#make file\u001b[0m\u001b[0;34m\u001b[0m\u001b[0;34m\u001b[0m\u001b[0;34m\u001b[0m\u001b[0m\n\u001b[0;32m----> 2\u001b[0;31m \u001b[0mos\u001b[0m\u001b[0;34m.\u001b[0m\u001b[0mmkdir\u001b[0m\u001b[0;34m(\u001b[0m\u001b[0;34m'/content/drive/My Drive/DietApp/PlateDataSet/resized-non-plate'\u001b[0m\u001b[0;34m)\u001b[0m\u001b[0;34m\u001b[0m\u001b[0;34m\u001b[0m\u001b[0m\n\u001b[0m",
            "\u001b[0;31mFileExistsError\u001b[0m: [Errno 17] File exists: '/content/drive/My Drive/DietApp/PlateDataSet/resized-non-plate'"
          ]
        }
      ]
    },
    {
      "cell_type": "code",
      "metadata": {
        "id": "H7LWWGz-YXjg",
        "outputId": "693da0b4-cf99-407e-efd6-d0f390e4027f",
        "colab": {
          "base_uri": "https://localhost:8080/"
        }
      },
      "source": [
        "#Resize files\n",
        "i = 0\n",
        "for img in glob.glob('/content/drive/My Drive/DietApp/Backup/non-plate/*'):\n",
        "  print(img)\n",
        "  image = cv2.imread(img)\n",
        "  imgResized = cv2.resize(image, (256, 256))\n",
        "  os.remove(img)\n",
        "  #cv2.imwrite('/content/drive/My Drive/DietApp/PlateDataSet/resized-plate/plate-%04i.jpg' %i, imgResized)\n",
        "  i+=1\n",
        "print(i)"
      ],
      "execution_count": null,
      "outputs": [
        {
          "output_type": "stream",
          "text": [
            "/content/drive/My Drive/DietApp/Backup/non-plate/non-plate-1052.jpg\n",
            "/content/drive/My Drive/DietApp/Backup/non-plate/non-plate-1761.jpg\n",
            "/content/drive/My Drive/DietApp/Backup/non-plate/non-plate-1054.jpg\n",
            "/content/drive/My Drive/DietApp/Backup/non-plate/non-plate-1763.jpg\n",
            "/content/drive/My Drive/DietApp/Backup/non-plate/non-plate-1768.jpg\n",
            "/content/drive/My Drive/DietApp/Backup/non-plate/non-plate-1055.jpg\n",
            "/content/drive/My Drive/DietApp/Backup/non-plate/non-plate-1762.jpg\n",
            "/content/drive/My Drive/DietApp/Backup/non-plate/non-plate-1769.jpg\n",
            "/content/drive/My Drive/DietApp/Backup/non-plate/non-plate-1770.jpg\n",
            "/content/drive/My Drive/DietApp/Backup/non-plate/non-plate-1764.jpg\n",
            "/content/drive/My Drive/DietApp/Backup/non-plate/non-plate-1765.jpg\n",
            "/content/drive/My Drive/DietApp/Backup/non-plate/non-plate-1766.jpg\n",
            "/content/drive/My Drive/DietApp/Backup/non-plate/non-plate-1767.jpg\n",
            "/content/drive/My Drive/DietApp/Backup/non-plate/non-plate-1771.jpg\n",
            "/content/drive/My Drive/DietApp/Backup/non-plate/non-plate-1772.jpg\n",
            "/content/drive/My Drive/DietApp/Backup/non-plate/non-plate-1773.jpg\n",
            "/content/drive/My Drive/DietApp/Backup/non-plate/non-plate-1774.jpg\n",
            "/content/drive/My Drive/DietApp/Backup/non-plate/non-plate-1775.jpg\n",
            "/content/drive/My Drive/DietApp/Backup/non-plate/non-plate-1776.jpg\n",
            "/content/drive/My Drive/DietApp/Backup/non-plate/non-plate-1777.jpg\n",
            "/content/drive/My Drive/DietApp/Backup/non-plate/non-plate-1778.jpg\n",
            "/content/drive/My Drive/DietApp/Backup/non-plate/non-plate-1779.jpg\n",
            "/content/drive/My Drive/DietApp/Backup/non-plate/non-plate-1780.jpg\n",
            "/content/drive/My Drive/DietApp/Backup/non-plate/non-plate-1781.jpg\n",
            "/content/drive/My Drive/DietApp/Backup/non-plate/non-plate-1782.jpg\n",
            "/content/drive/My Drive/DietApp/Backup/non-plate/non-plate-1783.jpg\n",
            "/content/drive/My Drive/DietApp/Backup/non-plate/non-plate-1785.jpg\n",
            "/content/drive/My Drive/DietApp/Backup/non-plate/non-plate-1784.jpg\n",
            "/content/drive/My Drive/DietApp/Backup/non-plate/non-plate-1786.jpg\n",
            "/content/drive/My Drive/DietApp/Backup/non-plate/non-plate-1787.jpg\n",
            "/content/drive/My Drive/DietApp/Backup/non-plate/non-plate-1788.jpg\n",
            "/content/drive/My Drive/DietApp/Backup/non-plate/non-plate-1789.jpg\n",
            "/content/drive/My Drive/DietApp/Backup/non-plate/non-plate-1790.jpg\n",
            "/content/drive/My Drive/DietApp/Backup/non-plate/non-plate-1791.jpg\n",
            "/content/drive/My Drive/DietApp/Backup/non-plate/non-plate-1792.jpg\n",
            "/content/drive/My Drive/DietApp/Backup/non-plate/non-plate-1793.jpg\n",
            "/content/drive/My Drive/DietApp/Backup/non-plate/non-plate-1794.jpg\n",
            "/content/drive/My Drive/DietApp/Backup/non-plate/non-plate-1795.jpg\n",
            "/content/drive/My Drive/DietApp/Backup/non-plate/non-plate-1796.jpg\n",
            "/content/drive/My Drive/DietApp/Backup/non-plate/non-plate-1797.jpg\n",
            "/content/drive/My Drive/DietApp/Backup/non-plate/non-plate-1798.jpg\n",
            "/content/drive/My Drive/DietApp/Backup/non-plate/non-plate-1799.jpg\n",
            "/content/drive/My Drive/DietApp/Backup/non-plate/non-plate-1802.jpg\n",
            "/content/drive/My Drive/DietApp/Backup/non-plate/non-plate-1803.jpg\n",
            "/content/drive/My Drive/DietApp/Backup/non-plate/non-plate-1801.jpg\n",
            "/content/drive/My Drive/DietApp/Backup/non-plate/non-plate-1804.jpg\n",
            "/content/drive/My Drive/DietApp/Backup/non-plate/non-plate-1800.jpg\n",
            "/content/drive/My Drive/DietApp/Backup/non-plate/non-plate-1807.jpg\n",
            "/content/drive/My Drive/DietApp/Backup/non-plate/non-plate-1806.jpg\n",
            "/content/drive/My Drive/DietApp/Backup/non-plate/non-plate-1809.jpg\n",
            "/content/drive/My Drive/DietApp/Backup/non-plate/non-plate-1808.jpg\n",
            "/content/drive/My Drive/DietApp/Backup/non-plate/non-plate-1805.jpg\n",
            "/content/drive/My Drive/DietApp/Backup/non-plate/non-plate-1811.jpg\n",
            "/content/drive/My Drive/DietApp/Backup/non-plate/non-plate-1810.jpg\n",
            "/content/drive/My Drive/DietApp/Backup/non-plate/non-plate-1812.jpg\n",
            "/content/drive/My Drive/DietApp/Backup/non-plate/non-plate-1814.jpg\n",
            "/content/drive/My Drive/DietApp/Backup/non-plate/non-plate-1813.jpg\n",
            "/content/drive/My Drive/DietApp/Backup/non-plate/non-plate-1816.jpg\n",
            "/content/drive/My Drive/DietApp/Backup/non-plate/non-plate-1817.jpg\n",
            "/content/drive/My Drive/DietApp/Backup/non-plate/non-plate-1818.jpg\n",
            "/content/drive/My Drive/DietApp/Backup/non-plate/non-plate-1815.jpg\n",
            "/content/drive/My Drive/DietApp/Backup/non-plate/non-plate-1819.jpg\n",
            "/content/drive/My Drive/DietApp/Backup/non-plate/non-plate-1820.jpg\n",
            "/content/drive/My Drive/DietApp/Backup/non-plate/non-plate-1821.jpg\n",
            "/content/drive/My Drive/DietApp/Backup/non-plate/non-plate-1823.jpg\n",
            "/content/drive/My Drive/DietApp/Backup/non-plate/non-plate-1822.jpg\n",
            "/content/drive/My Drive/DietApp/Backup/non-plate/non-plate-1825.jpg\n",
            "/content/drive/My Drive/DietApp/Backup/non-plate/non-plate-1824.jpg\n",
            "/content/drive/My Drive/DietApp/Backup/non-plate/non-plate-1826.jpg\n",
            "/content/drive/My Drive/DietApp/Backup/non-plate/non-plate-1827.jpg\n",
            "/content/drive/My Drive/DietApp/Backup/non-plate/non-plate-1828.jpg\n",
            "/content/drive/My Drive/DietApp/Backup/non-plate/non-plate-1829.jpg\n",
            "/content/drive/My Drive/DietApp/Backup/non-plate/non-plate-1830.jpg\n",
            "/content/drive/My Drive/DietApp/Backup/non-plate/non-plate-1831.jpg\n",
            "/content/drive/My Drive/DietApp/Backup/non-plate/non-plate-1832.jpg\n",
            "/content/drive/My Drive/DietApp/Backup/non-plate/non-plate-1833.jpg\n",
            "/content/drive/My Drive/DietApp/Backup/non-plate/non-plate-1834.jpg\n",
            "/content/drive/My Drive/DietApp/Backup/non-plate/non-plate-1835.jpg\n",
            "/content/drive/My Drive/DietApp/Backup/non-plate/non-plate-1836.jpg\n",
            "/content/drive/My Drive/DietApp/Backup/non-plate/non-plate-1837.jpg\n",
            "/content/drive/My Drive/DietApp/Backup/non-plate/non-plate-1838.jpg\n",
            "/content/drive/My Drive/DietApp/Backup/non-plate/non-plate-1839.jpg\n",
            "/content/drive/My Drive/DietApp/Backup/non-plate/non-plate-1840.jpg\n",
            "/content/drive/My Drive/DietApp/Backup/non-plate/non-plate-1841.jpg\n",
            "/content/drive/My Drive/DietApp/Backup/non-plate/non-plate-1842.jpg\n",
            "/content/drive/My Drive/DietApp/Backup/non-plate/non-plate-1843.jpg\n",
            "/content/drive/My Drive/DietApp/Backup/non-plate/non-plate-1844.jpg\n",
            "/content/drive/My Drive/DietApp/Backup/non-plate/non-plate-1845.jpg\n",
            "/content/drive/My Drive/DietApp/Backup/non-plate/non-plate-1846.jpg\n",
            "/content/drive/My Drive/DietApp/Backup/non-plate/non-plate-1847.jpg\n",
            "/content/drive/My Drive/DietApp/Backup/non-plate/non-plate-1848.jpg\n",
            "/content/drive/My Drive/DietApp/Backup/non-plate/non-plate-1849.jpg\n",
            "/content/drive/My Drive/DietApp/Backup/non-plate/non-plate-1850.jpg\n",
            "/content/drive/My Drive/DietApp/Backup/non-plate/non-plate-1851.jpg\n",
            "/content/drive/My Drive/DietApp/Backup/non-plate/non-plate-1852.jpg\n",
            "/content/drive/My Drive/DietApp/Backup/non-plate/non-plate-1854.jpg\n",
            "/content/drive/My Drive/DietApp/Backup/non-plate/non-plate-1853.jpg\n",
            "/content/drive/My Drive/DietApp/Backup/non-plate/non-plate-1856.jpg\n",
            "/content/drive/My Drive/DietApp/Backup/non-plate/non-plate-1857.jpg\n",
            "/content/drive/My Drive/DietApp/Backup/non-plate/non-plate-1859.jpg\n",
            "/content/drive/My Drive/DietApp/Backup/non-plate/non-plate-1858.jpg\n",
            "/content/drive/My Drive/DietApp/Backup/non-plate/non-plate-1855.jpg\n",
            "/content/drive/My Drive/DietApp/Backup/non-plate/non-plate-1860.jpg\n",
            "/content/drive/My Drive/DietApp/Backup/non-plate/non-plate-1861.jpg\n",
            "/content/drive/My Drive/DietApp/Backup/non-plate/non-plate-1865.jpg\n",
            "/content/drive/My Drive/DietApp/Backup/non-plate/non-plate-1866.jpg\n",
            "/content/drive/My Drive/DietApp/Backup/non-plate/non-plate-1862.jpg\n",
            "/content/drive/My Drive/DietApp/Backup/non-plate/non-plate-1864.jpg\n",
            "/content/drive/My Drive/DietApp/Backup/non-plate/non-plate-1868.jpg\n",
            "/content/drive/My Drive/DietApp/Backup/non-plate/non-plate-1863.jpg\n",
            "/content/drive/My Drive/DietApp/Backup/non-plate/non-plate-1867.jpg\n",
            "/content/drive/My Drive/DietApp/Backup/non-plate/non-plate-1871.jpg\n",
            "/content/drive/My Drive/DietApp/Backup/non-plate/non-plate-1873.jpg\n",
            "/content/drive/My Drive/DietApp/Backup/non-plate/non-plate-1869.jpg\n",
            "/content/drive/My Drive/DietApp/Backup/non-plate/non-plate-1870.jpg\n",
            "/content/drive/My Drive/DietApp/Backup/non-plate/non-plate-1872.jpg\n",
            "/content/drive/My Drive/DietApp/Backup/non-plate/non-plate-1874.jpg\n",
            "/content/drive/My Drive/DietApp/Backup/non-plate/non-plate-1875.jpg\n",
            "/content/drive/My Drive/DietApp/Backup/non-plate/non-plate-1876.jpg\n",
            "/content/drive/My Drive/DietApp/Backup/non-plate/non-plate-1877.jpg\n",
            "/content/drive/My Drive/DietApp/Backup/non-plate/non-plate-1878.jpg\n",
            "/content/drive/My Drive/DietApp/Backup/non-plate/non-plate-1879.jpg\n",
            "/content/drive/My Drive/DietApp/Backup/non-plate/non-plate-1880.jpg\n",
            "/content/drive/My Drive/DietApp/Backup/non-plate/non-plate-1881.jpg\n",
            "/content/drive/My Drive/DietApp/Backup/non-plate/non-plate-1882.jpg\n",
            "/content/drive/My Drive/DietApp/Backup/non-plate/non-plate-1883.jpg\n",
            "/content/drive/My Drive/DietApp/Backup/non-plate/non-plate-1884.jpg\n",
            "/content/drive/My Drive/DietApp/Backup/non-plate/non-plate-1885.jpg\n",
            "/content/drive/My Drive/DietApp/Backup/non-plate/non-plate-1886.jpg\n",
            "/content/drive/My Drive/DietApp/Backup/non-plate/non-plate-1887.jpg\n",
            "/content/drive/My Drive/DietApp/Backup/non-plate/non-plate-1888.jpg\n",
            "/content/drive/My Drive/DietApp/Backup/non-plate/non-plate-1889.jpg\n",
            "/content/drive/My Drive/DietApp/Backup/non-plate/non-plate-1890.jpg\n",
            "/content/drive/My Drive/DietApp/Backup/non-plate/non-plate-1891.jpg\n",
            "/content/drive/My Drive/DietApp/Backup/non-plate/non-plate-1893.jpg\n",
            "/content/drive/My Drive/DietApp/Backup/non-plate/non-plate-1892.jpg\n",
            "/content/drive/My Drive/DietApp/Backup/non-plate/non-plate-1894.jpg\n",
            "/content/drive/My Drive/DietApp/Backup/non-plate/non-plate-1895.jpg\n",
            "/content/drive/My Drive/DietApp/Backup/non-plate/non-plate-1896.jpg\n",
            "/content/drive/My Drive/DietApp/Backup/non-plate/non-plate-1897.jpg\n",
            "/content/drive/My Drive/DietApp/Backup/non-plate/non-plate-1898.jpg\n",
            "/content/drive/My Drive/DietApp/Backup/non-plate/non-plate-1899.jpg\n",
            "/content/drive/My Drive/DietApp/Backup/non-plate/non-plate-1900.jpg\n",
            "/content/drive/My Drive/DietApp/Backup/non-plate/non-plate-1901.jpg\n",
            "/content/drive/My Drive/DietApp/Backup/non-plate/non-plate-1903.jpg\n",
            "/content/drive/My Drive/DietApp/Backup/non-plate/non-plate-1905.jpg\n",
            "/content/drive/My Drive/DietApp/Backup/non-plate/non-plate-1904.jpg\n",
            "/content/drive/My Drive/DietApp/Backup/non-plate/non-plate-1906.jpg\n",
            "/content/drive/My Drive/DietApp/Backup/non-plate/non-plate-1908.jpg\n",
            "/content/drive/My Drive/DietApp/Backup/non-plate/non-plate-1909.jpg\n",
            "/content/drive/My Drive/DietApp/Backup/non-plate/non-plate-1902.jpg\n",
            "/content/drive/My Drive/DietApp/Backup/non-plate/non-plate-1907.jpg\n",
            "/content/drive/My Drive/DietApp/Backup/non-plate/non-plate-1914.jpg\n",
            "/content/drive/My Drive/DietApp/Backup/non-plate/non-plate-1913.jpg\n",
            "/content/drive/My Drive/DietApp/Backup/non-plate/non-plate-1911.jpg\n",
            "/content/drive/My Drive/DietApp/Backup/non-plate/non-plate-1910.jpg\n",
            "/content/drive/My Drive/DietApp/Backup/non-plate/non-plate-1912.jpg\n",
            "/content/drive/My Drive/DietApp/Backup/non-plate/non-plate-1917.jpg\n",
            "/content/drive/My Drive/DietApp/Backup/non-plate/non-plate-1918.jpg\n",
            "/content/drive/My Drive/DietApp/Backup/non-plate/non-plate-1915.jpg\n",
            "/content/drive/My Drive/DietApp/Backup/non-plate/non-plate-1919.jpg\n",
            "/content/drive/My Drive/DietApp/Backup/non-plate/non-plate-1920.jpg\n",
            "/content/drive/My Drive/DietApp/Backup/non-plate/non-plate-1921.jpg\n",
            "/content/drive/My Drive/DietApp/Backup/non-plate/non-plate-1922.jpg\n",
            "/content/drive/My Drive/DietApp/Backup/non-plate/non-plate-1916.jpg\n",
            "/content/drive/My Drive/DietApp/Backup/non-plate/non-plate-1925.jpg\n",
            "/content/drive/My Drive/DietApp/Backup/non-plate/non-plate-1924.jpg\n",
            "/content/drive/My Drive/DietApp/Backup/non-plate/non-plate-1923.jpg\n",
            "/content/drive/My Drive/DietApp/Backup/non-plate/non-plate-1926.jpg\n",
            "/content/drive/My Drive/DietApp/Backup/non-plate/non-plate-1927.jpg\n",
            "/content/drive/My Drive/DietApp/Backup/non-plate/non-plate-1928.jpg\n",
            "/content/drive/My Drive/DietApp/Backup/non-plate/non-plate-1929.jpg\n",
            "/content/drive/My Drive/DietApp/Backup/non-plate/non-plate-1930.jpg\n",
            "/content/drive/My Drive/DietApp/Backup/non-plate/non-plate-1931.jpg\n",
            "/content/drive/My Drive/DietApp/Backup/non-plate/non-plate-1933.jpg\n",
            "/content/drive/My Drive/DietApp/Backup/non-plate/non-plate-1932.jpg\n",
            "/content/drive/My Drive/DietApp/Backup/non-plate/non-plate-1934.jpg\n",
            "/content/drive/My Drive/DietApp/Backup/non-plate/non-plate-1935.jpg\n"
          ],
          "name": "stdout"
        }
      ]
    },
    {
      "cell_type": "code",
      "metadata": {
        "id": "Bs7LnOzEmsKQ"
      },
      "source": [
        "#remove a file\n",
        "if os.path.exists(\"/content/drive/My Drive/DietApp/Backup/non-plate/non-plate-1.jpg\"):\n",
        "  os.remove(\"/content/drive/My Drive/DietApp/Backup/non-plate/non-plate-1.jpg\")\n",
        "else:\n",
        "  print(\"The file does not exist\")"
      ],
      "execution_count": 6,
      "outputs": []
    }
  ]
}