{
  "nbformat": 4,
  "nbformat_minor": 0,
  "metadata": {
    "colab": {
      "name": "resize_rename_pictures.ipynb",
      "provenance": [],
      "collapsed_sections": [],
      "authorship_tag": "ABX9TyPXBT3xpYkeuDxWctuXDpyV",
      "include_colab_link": true
    },
    "kernelspec": {
      "name": "python3",
      "display_name": "Python 3"
    }
  },
  "cells": [
    {
      "cell_type": "markdown",
      "metadata": {
        "id": "view-in-github",
        "colab_type": "text"
      },
      "source": [
        "<a href=\"https://colab.research.google.com/github/BernaTasel/colabWorks/blob/main/resize_rename_pictures.ipynb\" target=\"_parent\"><img src=\"https://colab.research.google.com/assets/colab-badge.svg\" alt=\"Open In Colab\"/></a>"
      ]
    },
    {
      "cell_type": "code",
      "metadata": {
        "id": "wqg4E9ODXUe1"
      },
      "source": [
        "#Libraries\n",
        "import cv2\n",
        "import glob\n",
        "import os"
      ],
      "execution_count": null,
      "outputs": []
    },
    {
      "cell_type": "code",
      "metadata": {
        "id": "ihVEMZ7PYCzw"
      },
      "source": [
        "#drive connection\n",
        "from google.colab import drive\n",
        "drive.mount('/content/drive')"
      ],
      "execution_count": null,
      "outputs": []
    },
    {
      "cell_type": "code",
      "metadata": {
        "id": "79s6A4VzYSZr"
      },
      "source": [
        "#Rename the files\n",
        "import os\n",
        "for count, filename in enumerate(os.listdir(\"drive/My Drive/DietApp/PlateDataSet/non-plate/\")):\n",
        "  dst =\"non-plate-\" + str(count) + \".jpg\"\n",
        "  src ='drive/My Drive/DietApp/PlateDataSet/non-plate/' + filename \n",
        "  dst ='drive/My Drive/DietApp/PlateDataSet/non-plate/'+ dst\n",
        "  os.rename(src, dst) "
      ],
      "execution_count": null,
      "outputs": []
    },
    {
      "cell_type": "code",
      "metadata": {
        "id": "H7LWWGz-YXjg"
      },
      "source": [
        "#Resize files\n",
        "i = 0\n",
        "for img in glob.glob('drive/My Drive/DietApp/PlateDataSet/plate/*'):\n",
        "  print(img)\n",
        "  image = cv2.imread(img)\n",
        "  #imgResized = cv2.resize(image, (256, 256))\n",
        "  cv2.imwrite('drive/My Drive/DietApp/Resized/pirasa%04i.jpg' %i, imgResized)\n",
        "  i+=1"
      ],
      "execution_count": null,
      "outputs": []
    }
  ]
}