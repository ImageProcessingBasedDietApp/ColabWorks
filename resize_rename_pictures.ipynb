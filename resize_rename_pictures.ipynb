{
  "nbformat": 4,
  "nbformat_minor": 0,
  "metadata": {
    "colab": {
      "name": "resize_rename_pictures.ipynb",
      "provenance": [],
      "collapsed_sections": [],
      "include_colab_link": true
    },
    "kernelspec": {
      "name": "python3",
      "display_name": "Python 3"
    }
  },
  "cells": [
    {
      "cell_type": "markdown",
      "metadata": {
        "id": "view-in-github",
        "colab_type": "text"
      },
      "source": [
        "<a href=\"https://colab.research.google.com/github/BernaTasel/colabWorks/blob/main/resize_rename_pictures.ipynb\" target=\"_parent\"><img src=\"https://colab.research.google.com/assets/colab-badge.svg\" alt=\"Open In Colab\"/></a>"
      ]
    },
    {
      "cell_type": "code",
      "metadata": {
        "id": "wqg4E9ODXUe1"
      },
      "source": [
        "#Libraries\n",
        "import cv2\n",
        "import glob\n",
        "import os\n",
        "import time"
      ],
      "execution_count": null,
      "outputs": []
    },
    {
      "cell_type": "code",
      "metadata": {
        "id": "ihVEMZ7PYCzw",
        "outputId": "733bc029-b0b0-496d-b766-33c4d127d8d0",
        "colab": {
          "base_uri": "https://localhost:8080/"
        }
      },
      "source": [
        "#drive connection\n",
        "from google.colab import drive\n",
        "drive.mount('/content/drive')"
      ],
      "execution_count": null,
      "outputs": [
        {
          "output_type": "stream",
          "text": [
            "Mounted at /content/drive\n"
          ],
          "name": "stdout"
        }
      ]
    },
    {
      "cell_type": "code",
      "metadata": {
        "id": "cee5rk7Lou8o"
      },
      "source": [
        "#Rename the files\n",
        "for count, filename in enumerate(os.listdir(\"/content/drive/My Drive/DietApp/ProjectDataset/incir/\")):\n",
        "  dst =\"incir-\" + str(count) + \".jpg\"\n",
        "  src ='/content/drive/My Drive/DietApp/ProjectDataset/incir/' + filename \n",
        "  dst ='/content/drive/My Drive/DietApp/ProjectDataset/incir/'+ dst\n",
        "  os.rename(src, dst) "
      ],
      "execution_count": null,
      "outputs": []
    },
    {
      "cell_type": "code",
      "metadata": {
        "id": "BOOqzw3h0-v5"
      },
      "source": [
        "#make file\n",
        "os.mkdir('/content/drive/My Drive/DietApp/PlateDataSet/resized-non-plate')"
      ],
      "execution_count": null,
      "outputs": []
    },
    {
      "cell_type": "code",
      "metadata": {
        "id": "H7LWWGz-YXjg"
      },
      "source": [
        "#Resize files\n",
        "resizingTime = 0\n",
        "i = 0\n",
        "beforeResize = time.time()\n",
        "for img in glob.glob('/content/drive/My Drive/DietApp/PlateDataSet/non-plate/*'):\n",
        "  print(img)\n",
        "  image = cv2.imread(img)\n",
        "  imgResized = cv2.resize(image, (256, 256))\n",
        "  cv2.imwrite('/content/drive/My Drive/DietApp/PlateDataSet/resized-non-plate/non-plate-%04i.jpg' %i, imgResized)\n",
        "  os.remove(img)\n",
        "  i+=1\n",
        "print(i)\n",
        "afterResize = time.time()\n",
        "resizingTime = afterResize - beforeResize + resizingTime\n",
        "print(resizingTime)"
      ],
      "execution_count": null,
      "outputs": []
    },
    {
      "cell_type": "code",
      "metadata": {
        "id": "Bs7LnOzEmsKQ"
      },
      "source": [
        "#remove a file\n",
        "if os.path.exists(\"/content/drive/My Drive/DietApp/Backup/non-plate/non-plate-1.jpg\"):\n",
        "  os.remove(\"/content/drive/My Drive/DietApp/Backup/non-plate/non-plate-1.jpg\")\n",
        "else:\n",
        "  print(\"The file does not exist\")"
      ],
      "execution_count": null,
      "outputs": []
    },
    {
      "cell_type": "code",
      "metadata": {
        "id": "EypSvzzP-6Uf",
        "outputId": "00ac6312-993a-4170-f6c8-4823d6a6fa62",
        "colab": {
          "base_uri": "https://localhost:8080/"
        }
      },
      "source": [
        "#DATASET LAST VİEW\n",
        "data = \"/content/drive/My Drive/DietApp/PlateDataSet\"\n",
        "folders = os.listdir(data)\n",
        "folderCounter = 0\n",
        "for folder in folders:\n",
        "  imageCounter = 0\n",
        "  folderCounter += 1\n",
        "  for file in os.listdir(os.path.join(data, folder)):\n",
        "    imageCounter += 1\n",
        "  print(str(folder)+ \": \"+ str(imageCounter)+\" image.\")\n",
        "print(\"Total: \"+ str(folderCounter) +\" files.\")\n",
        "\n"
      ],
      "execution_count": null,
      "outputs": [
        {
          "output_type": "stream",
          "text": [
            "non-plate: 0 image.\n",
            "plate: 0 image.\n",
            "resized-plate: 7010 image.\n",
            "resized-non-plate: 6950 image.\n",
            "Total: 4 files.\n"
          ],
          "name": "stdout"
        }
      ]
    },
    {
      "cell_type": "code",
      "metadata": {
        "id": "qFFZqyIETj4S",
        "outputId": "db710482-46c4-43ae-87ad-cf54d1222549",
        "colab": {
          "base_uri": "https://localhost:8080/",
          "height": 232
        }
      },
      "source": [
        "#DATASET LAST VİEW\n",
        "data = \"/content/drive/My Drive/DietApp/ProjectDataset\"\n",
        "folders = os.listdir(data)\n",
        "folderCounter = 0\n",
        "for folder in folders:\n",
        "  imageCounter = 0\n",
        "  folderCounter += 1\n",
        "  for file in os.listdir(os.path.join(data, folder)):\n",
        "    imageCounter += 1\n",
        "  if imageCounter<300 :\n",
        "    print(str(folder)+ \": \"+ str(imageCounter)+\" image.\")\n",
        "print(\"Total: \"+ str(folderCounter) +\" files.\")"
      ],
      "execution_count": 1,
      "outputs": [
        {
          "output_type": "error",
          "ename": "NameError",
          "evalue": "ignored",
          "traceback": [
            "\u001b[0;31m---------------------------------------------------------------------------\u001b[0m",
            "\u001b[0;31mNameError\u001b[0m                                 Traceback (most recent call last)",
            "\u001b[0;32m<ipython-input-1-f4857eb88a25>\u001b[0m in \u001b[0;36m<module>\u001b[0;34m()\u001b[0m\n\u001b[1;32m      1\u001b[0m \u001b[0;31m#DATASET LAST VİEW\u001b[0m\u001b[0;34m\u001b[0m\u001b[0;34m\u001b[0m\u001b[0;34m\u001b[0m\u001b[0m\n\u001b[1;32m      2\u001b[0m \u001b[0mdata\u001b[0m \u001b[0;34m=\u001b[0m \u001b[0;34m\"/content/drive/My Drive/DietApp/ProjectDataset\"\u001b[0m\u001b[0;34m\u001b[0m\u001b[0;34m\u001b[0m\u001b[0m\n\u001b[0;32m----> 3\u001b[0;31m \u001b[0mfolders\u001b[0m \u001b[0;34m=\u001b[0m \u001b[0mos\u001b[0m\u001b[0;34m.\u001b[0m\u001b[0mlistdir\u001b[0m\u001b[0;34m(\u001b[0m\u001b[0mdata\u001b[0m\u001b[0;34m)\u001b[0m\u001b[0;34m\u001b[0m\u001b[0;34m\u001b[0m\u001b[0m\n\u001b[0m\u001b[1;32m      4\u001b[0m \u001b[0mfolderCounter\u001b[0m \u001b[0;34m=\u001b[0m \u001b[0;36m0\u001b[0m\u001b[0;34m\u001b[0m\u001b[0;34m\u001b[0m\u001b[0m\n\u001b[1;32m      5\u001b[0m \u001b[0;32mfor\u001b[0m \u001b[0mfolder\u001b[0m \u001b[0;32min\u001b[0m \u001b[0mfolders\u001b[0m\u001b[0;34m:\u001b[0m\u001b[0;34m\u001b[0m\u001b[0;34m\u001b[0m\u001b[0m\n",
            "\u001b[0;31mNameError\u001b[0m: name 'os' is not defined"
          ]
        }
      ]
    }
  ]
}