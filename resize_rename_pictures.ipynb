{
  "nbformat": 4,
  "nbformat_minor": 0,
  "metadata": {
    "colab": {
      "name": "resize_rename_pictures.ipynb",
      "provenance": [],
      "collapsed_sections": [],
      "include_colab_link": true
    },
    "kernelspec": {
      "name": "python3",
      "display_name": "Python 3"
    }
  },
  "cells": [
    {
      "cell_type": "markdown",
      "metadata": {
        "id": "view-in-github",
        "colab_type": "text"
      },
      "source": [
        "<a href=\"https://colab.research.google.com/github/BernaTasel/colabWorks/blob/main/resize_rename_pictures.ipynb\" target=\"_parent\"><img src=\"https://colab.research.google.com/assets/colab-badge.svg\" alt=\"Open In Colab\"/></a>"
      ]
    },
    {
      "cell_type": "code",
      "metadata": {
        "id": "wqg4E9ODXUe1"
      },
      "source": [
        "#Libraries\n",
        "import cv2\n",
        "import glob\n",
        "import os\n",
        "import time"
      ],
      "execution_count": null,
      "outputs": []
    },
    {
      "cell_type": "code",
      "metadata": {
        "id": "ihVEMZ7PYCzw",
        "outputId": "733bc029-b0b0-496d-b766-33c4d127d8d0",
        "colab": {
          "base_uri": "https://localhost:8080/"
        }
      },
      "source": [
        "#drive connection\n",
        "from google.colab import drive\n",
        "drive.mount('/content/drive')"
      ],
      "execution_count": null,
      "outputs": [
        {
          "output_type": "stream",
          "text": [
            "Mounted at /content/drive\n"
          ],
          "name": "stdout"
        }
      ]
    },
    {
      "cell_type": "code",
      "metadata": {
        "id": "cee5rk7Lou8o"
      },
      "source": [
        "#Rename the files\n",
        "for count, filename in enumerate(os.listdir(\"/content/drive/My Drive/DietApp/ProjectDataset/incir/\")):\n",
        "  dst =\"incir-\" + str(count) + \".jpg\"\n",
        "  src ='/content/drive/My Drive/DietApp/ProjectDataset/incir/' + filename \n",
        "  dst ='/content/drive/My Drive/DietApp/ProjectDataset/incir/'+ dst\n",
        "  os.rename(src, dst) "
      ],
      "execution_count": null,
      "outputs": []
    },
    {
      "cell_type": "code",
      "metadata": {
        "id": "BOOqzw3h0-v5"
      },
      "source": [
        "#make file\n",
        "os.mkdir('/content/drive/My Drive/DietApp/PlateDataSet/resized-non-plate')"
      ],
      "execution_count": null,
      "outputs": []
    },
    {
      "cell_type": "code",
      "metadata": {
        "id": "H7LWWGz-YXjg"
      },
      "source": [
        "#Resize files\n",
        "resizingTime = 0\n",
        "i = 0\n",
        "beforeResize = time.time()\n",
        "for img in glob.glob('/content/drive/My Drive/DietApp/PlateDataSet/non-plate/*'):\n",
        "  print(img)\n",
        "  image = cv2.imread(img)\n",
        "  imgResized = cv2.resize(image, (256, 256))\n",
        "  cv2.imwrite('/content/drive/My Drive/DietApp/PlateDataSet/resized-non-plate/non-plate-%04i.jpg' %i, imgResized)\n",
        "  os.remove(img)\n",
        "  i+=1\n",
        "print(i)\n",
        "afterResize = time.time()\n",
        "resizingTime = afterResize - beforeResize + resizingTime\n",
        "print(resizingTime)"
      ],
      "execution_count": null,
      "outputs": []
    },
    {
      "cell_type": "code",
      "metadata": {
        "id": "Bs7LnOzEmsKQ"
      },
      "source": [
        "#remove a file\n",
        "if os.path.exists(\"/content/drive/My Drive/DietApp/Backup/non-plate/non-plate-1.jpg\"):\n",
        "  os.remove(\"/content/drive/My Drive/DietApp/Backup/non-plate/non-plate-1.jpg\")\n",
        "else:\n",
        "  print(\"The file does not exist\")"
      ],
      "execution_count": null,
      "outputs": []
    },
    {
      "cell_type": "code",
      "metadata": {
        "id": "EypSvzzP-6Uf",
        "outputId": "00ac6312-993a-4170-f6c8-4823d6a6fa62",
        "colab": {
          "base_uri": "https://localhost:8080/"
        }
      },
      "source": [
        "#DATASET LAST VİEW\n",
        "data = \"/content/drive/My Drive/DietApp/PlateDataSet\"\n",
        "folders = os.listdir(data)\n",
        "folderCounter = 0\n",
        "for folder in folders:\n",
        "  imageCounter = 0\n",
        "  folderCounter += 1\n",
        "  for file in os.listdir(os.path.join(data, folder)):\n",
        "    imageCounter += 1\n",
        "  print(str(folder)+ \": \"+ str(imageCounter)+\" image.\")\n",
        "print(\"Total: \"+ str(folderCounter) +\" files.\")\n",
        "\n"
      ],
      "execution_count": null,
      "outputs": [
        {
          "output_type": "stream",
          "text": [
            "non-plate: 0 image.\n",
            "plate: 0 image.\n",
            "resized-plate: 7010 image.\n",
            "resized-non-plate: 6950 image.\n",
            "Total: 4 files.\n"
          ],
          "name": "stdout"
        }
      ]
    },
    {
      "cell_type": "code",
      "metadata": {
        "id": "qFFZqyIETj4S",
        "outputId": "21d723da-d43f-4661-a984-95a1831f6e15",
        "colab": {
          "base_uri": "https://localhost:8080/"
        }
      },
      "source": [
        "#DATASET LAST VİEW\n",
        "data = \"/content/drive/My Drive/DietApp/ProjectDataset\"\n",
        "folders = os.listdir(data)\n",
        "folderCounter = 0\n",
        "for folder in folders:\n",
        "  imageCounter = 0\n",
        "  folderCounter += 1\n",
        "  for file in os.listdir(os.path.join(data, folder)):\n",
        "    imageCounter += 1\n",
        "  #if imageCounter<300 :\n",
        "  print(str(folder)+ \": \"+ str(imageCounter)+\" image.\")\n",
        "print(\"Total: \"+ str(folderCounter) +\" files.\")"
      ],
      "execution_count": null,
      "outputs": [
        {
          "output_type": "stream",
          "text": [
            "patates-salatası: 605 image.\n",
            "mercimek-çorbası: 427 image.\n",
            "sucuklu-yumurta: 487 image.\n",
            "mercimek-köftesi: 512 image.\n",
            "kısır: 427 image.\n",
            "pırasa: 428 image.\n",
            "menemen: 378 image.\n",
            "domates-çorbası: 533 image.\n",
            "patates-püresi: 478 image.\n",
            "sulu-barbunya-yemeği: 664 image.\n",
            "sulu-kuru-fasülye-yemeği: 423 image.\n",
            "sulu-bezelye-yemeği: 883 image.\n",
            "tarhana-çorbası: 296 image.\n",
            "yayla-çorbası: 356 image.\n",
            "sulu-patates-yemeği: 477 image.\n",
            "sulu-bamya-yemeği: 401 image.\n",
            "sulu-mercimek-yemeği: 360 image.\n",
            "sulu-nohut-yemeği: 381 image.\n",
            "şehriye-çorbası: 491 image.\n",
            "çoban-salatası: 372 image.\n",
            "zeytinyağlı-fasülye: 393 image.\n",
            "biber-dolma: 550 image.\n",
            "yaprak-sarma: 410 image.\n",
            "çiğ-köfte: 404 image.\n",
            "karnıyarık: 393 image.\n",
            "ıspanak-yemeği: 400 image.\n",
            "mantı: 361 image.\n",
            "anne-köftesi: 315 image.\n",
            "içli-köfte: 424 image.\n",
            "döner: 333 image.\n",
            "çanak-enginar: 310 image.\n",
            "cacık: 446 image.\n",
            "sandviç: 494 image.\n",
            "adana-kebap: 361 image.\n",
            "bulgur-pilavı: 407 image.\n",
            "lahmacun: 356 image.\n",
            "mumbar-dolması: 435 image.\n",
            "iskender: 373 image.\n",
            "omlet: 383 image.\n",
            "kıymalı-pide: 382 image.\n",
            "çipura: 317 image.\n",
            "tas-kebabı: 430 image.\n",
            "patlıcan-kebabı: 300 image.\n",
            "kokoreç: 329 image.\n",
            "tantuni: 326 image.\n",
            "yoğurt: 349 image.\n",
            "brüksel-lahanası: 322 image.\n",
            "beyaz-lahana-sarması: 344 image.\n",
            "karnabahar: 297 image.\n",
            "levrek: 412 image.\n",
            "haşlanmış-yumurta: 341 image.\n",
            "kabak-mücver: 303 image.\n",
            "türk-kahvesi: 314 image.\n",
            "hünkar-beğendi: 333 image.\n",
            "pilav: 671 image.\n",
            "midye-dolma: 426 image.\n",
            "yoğurtlu-makarna: 304 image.\n",
            "salçalı-makarna: 331 image.\n",
            "kıymalı-börek: 326 image.\n",
            "peynirli-börek: 328 image.\n",
            "midye-tava: 337 image.\n",
            "çilek: 511 image.\n",
            "avakado: 372 image.\n",
            "karpuz: 352 image.\n",
            "muz: 313 image.\n",
            "kivi: 360 image.\n",
            "armut: 348 image.\n",
            "incir: 326 image.\n",
            "nar: 345 image.\n",
            "şeftali: 319 image.\n",
            "üzüm: 542 image.\n",
            "portakal: 508 image.\n",
            "mango: 528 image.\n",
            "elma: 509 image.\n",
            "salatalık: 399 image.\n",
            "erik: 322 image.\n",
            "kiraz: 344 image.\n",
            "kavun: 320 image.\n",
            "domates: 406 image.\n",
            "brokoli: 356 image.\n",
            "havuç: 413 image.\n",
            "kayısı: 299 image.\n",
            "ekmek: 504 image.\n",
            "baklava: 432 image.\n",
            "sütlaç: 356 image.\n",
            "tulumba-tatlısı: 419 image.\n",
            "kazandibi: 350 image.\n",
            "kalburabastı: 353 image.\n",
            "kemal-paşa-tatlısı: 431 image.\n",
            "tavuk-sote: 460 image.\n",
            "dondurma: 798 image.\n",
            "patates-kızartması: 442 image.\n",
            "çay: 326 image.\n",
            "yeşil-zeytin: 379 image.\n",
            "siyah-zeytin: 313 image.\n",
            "ayran: 478 image.\n",
            "et-sote: 624 image.\n",
            ".ipynb_checkpoints: 0 image.\n",
            "hamsi-tava: 423 image.\n",
            "su-böreği: 418 image.\n",
            "lokma: 341 image.\n",
            "sahlep: 296 image.\n",
            "turşu: 400 image.\n",
            "Total: 103 files.\n"
          ],
          "name": "stdout"
        }
      ]
    }
  ]
}