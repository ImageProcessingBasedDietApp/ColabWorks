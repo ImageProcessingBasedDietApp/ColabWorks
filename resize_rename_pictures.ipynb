{
  "nbformat": 4,
  "nbformat_minor": 0,
  "metadata": {
    "colab": {
      "name": "resize_rename_pictures.ipynb",
      "provenance": [],
      "collapsed_sections": [],
      "include_colab_link": true
    },
    "kernelspec": {
      "name": "python3",
      "display_name": "Python 3"
    }
  },
  "cells": [
    {
      "cell_type": "markdown",
      "metadata": {
        "id": "view-in-github",
        "colab_type": "text"
      },
      "source": [
        "<a href=\"https://colab.research.google.com/github/BernaTasel/colabWorks/blob/main/resize_rename_pictures.ipynb\" target=\"_parent\"><img src=\"https://colab.research.google.com/assets/colab-badge.svg\" alt=\"Open In Colab\"/></a>"
      ]
    },
    {
      "cell_type": "code",
      "metadata": {
        "id": "wqg4E9ODXUe1"
      },
      "source": [
        "#Libraries\n",
        "import cv2\n",
        "import glob\n",
        "import os\n",
        "import time"
      ],
      "execution_count": 3,
      "outputs": []
    },
    {
      "cell_type": "code",
      "metadata": {
        "id": "ihVEMZ7PYCzw"
      },
      "source": [
        "#drive connection\n",
        "from google.colab import drive\n",
        "drive.mount('/content/drive')"
      ],
      "execution_count": null,
      "outputs": []
    },
    {
      "cell_type": "code",
      "metadata": {
        "id": "cee5rk7Lou8o"
      },
      "source": [
        "#Rename the files\n",
        "for count, filename in enumerate(os.listdir(\"/content/drive/My Drive/DietApp/ProjectDataset/incir/\")):\n",
        "  dst =\"incir-\" + str(count) + \".jpg\"\n",
        "  src ='/content/drive/My Drive/DietApp/ProjectDataset/incir/' + filename \n",
        "  dst ='/content/drive/My Drive/DietApp/ProjectDataset/incir/'+ dst\n",
        "  os.rename(src, dst) "
      ],
      "execution_count": null,
      "outputs": []
    },
    {
      "cell_type": "code",
      "metadata": {
        "id": "BOOqzw3h0-v5"
      },
      "source": [
        "#make file\n",
        "os.mkdir('/content/drive/My Drive/DietApp/PlateDataSet/resized-non-plate')"
      ],
      "execution_count": null,
      "outputs": []
    },
    {
      "cell_type": "code",
      "metadata": {
        "id": "H7LWWGz-YXjg"
      },
      "source": [
        "#Resize files\n",
        "resizingTime = 0\n",
        "i = 0\n",
        "beforeResize = time.time()\n",
        "for img in glob.glob('/content/drive/My Drive/DietApp/PlateDataSet/non-plate/*'):\n",
        "  print(img)\n",
        "  image = cv2.imread(img)\n",
        "  imgResized = cv2.resize(image, (256, 256))\n",
        "  cv2.imwrite('/content/drive/My Drive/DietApp/PlateDataSet/resized-non-plate/non-plate-%04i.jpg' %i, imgResized)\n",
        "  os.remove(img)\n",
        "  i+=1\n",
        "print(i)\n",
        "afterResize = time.time()\n",
        "resizingTime = afterResize - beforeResize + resizingTime\n",
        "print(resizingTime)"
      ],
      "execution_count": null,
      "outputs": []
    },
    {
      "cell_type": "code",
      "metadata": {
        "id": "Bs7LnOzEmsKQ"
      },
      "source": [
        "#remove a file\n",
        "if os.path.exists(\"/content/drive/My Drive/DietApp/Backup/non-plate/non-plate-1.jpg\"):\n",
        "  os.remove(\"/content/drive/My Drive/DietApp/Backup/non-plate/non-plate-1.jpg\")\n",
        "else:\n",
        "  print(\"The file does not exist\")"
      ],
      "execution_count": null,
      "outputs": []
    },
    {
      "cell_type": "code",
      "metadata": {
        "id": "EypSvzzP-6Uf"
      },
      "source": [
        "#DATASET LAST VİEW\n",
        "data = \"/content/drive/My Drive/DietApp/PlateDataSet\"\n",
        "folders = os.listdir(data)\n",
        "folderCounter = 0\n",
        "for folder in folders:\n",
        "  imageCounter = 0\n",
        "  folderCounter += 1\n",
        "  for file in os.listdir(os.path.join(data, folder)):\n",
        "    imageCounter += 1\n",
        "  print(str(folder)+ \": \"+ str(imageCounter)+\" image.\")\n",
        "print(\"Total: \"+ str(folderCounter) +\" files.\")\n",
        "\n"
      ],
      "execution_count": null,
      "outputs": []
    },
    {
      "cell_type": "code",
      "metadata": {
        "id": "qFFZqyIETj4S"
      },
      "source": [
        "#DATASET LAST VİEW\n",
        "data = \"/content/drive/My Drive/DietApp/ProjectDataset\"\n",
        "folders = os.listdir(data)\n",
        "folderCounter = 0\n",
        "for folder in folders:\n",
        "  imageCounter = 0\n",
        "  folderCounter += 1\n",
        "  for file in os.listdir(os.path.join(data, folder)):\n",
        "    imageCounter += 1\n",
        "  if imageCounter<300 :\n",
        "    print(str(folder)+ \": \"+ str(imageCounter)+\" image.\")\n",
        "print(\"Total: \"+ str(folderCounter) +\" files.\")"
      ],
      "execution_count": null,
      "outputs": []
    }
  ]
}