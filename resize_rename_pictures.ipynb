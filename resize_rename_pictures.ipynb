{
  "nbformat": 4,
  "nbformat_minor": 0,
  "metadata": {
    "colab": {
      "name": "resize_rename_pictures.ipynb",
      "provenance": [],
      "collapsed_sections": [],
      "authorship_tag": "ABX9TyPqUcnAWdymnRTVogvvD+Am",
      "include_colab_link": true
    },
    "kernelspec": {
      "name": "python3",
      "display_name": "Python 3"
    }
  },
  "cells": [
    {
      "cell_type": "markdown",
      "metadata": {
        "id": "view-in-github",
        "colab_type": "text"
      },
      "source": [
        "<a href=\"https://colab.research.google.com/github/BernaTasel/colabWorks/blob/main/resize_rename_pictures.ipynb\" target=\"_parent\"><img src=\"https://colab.research.google.com/assets/colab-badge.svg\" alt=\"Open In Colab\"/></a>"
      ]
    },
    {
      "cell_type": "code",
      "metadata": {
        "id": "wqg4E9ODXUe1"
      },
      "source": [
        "#Libraries\n",
        "import cv2\n",
        "import glob\n",
        "import os"
      ],
      "execution_count": 1,
      "outputs": []
    },
    {
      "cell_type": "code",
      "metadata": {
        "id": "ihVEMZ7PYCzw",
        "outputId": "93b0ad1a-e261-4608-d488-28a64b47c979",
        "colab": {
          "base_uri": "https://localhost:8080/"
        }
      },
      "source": [
        "#drive connection\n",
        "from google.colab import drive\n",
        "drive.mount('/content/drive')"
      ],
      "execution_count": 2,
      "outputs": [
        {
          "output_type": "stream",
          "text": [
            "Mounted at /content/drive\n"
          ],
          "name": "stdout"
        }
      ]
    },
    {
      "cell_type": "code",
      "metadata": {
        "id": "79s6A4VzYSZr"
      },
      "source": [
        "#Rename the files\n",
        "import os\n",
        "for count, filename in enumerate(os.listdir(\"/content/drive/My Drive/DietApp/ProjectDataset/salatalık/\")):\n",
        "  dst =\"salatalık-\" + str(count) + \".jpg\"\n",
        "  src ='/content/drive/My Drive/DietApp/ProjectDataset/salatalık/' + filename \n",
        "  dst ='/content/drive/My Drive/DietApp/ProjectDataset/salatalık/'+ dst\n",
        "  os.rename(src, dst) "
      ],
      "execution_count": 17,
      "outputs": []
    },
    {
      "cell_type": "code",
      "metadata": {
        "id": "cee5rk7Lou8o"
      },
      "source": [
        "#Rename the files\n",
        "import os\n",
        "for count, filename in enumerate(os.listdir(\"/content/drive/My Drive/DietApp/ProjectDataset/incir/\")):\n",
        "  dst =\"incir-\" + str(count) + \".jpg\"\n",
        "  src ='/content/drive/My Drive/DietApp/ProjectDataset/incir/' + filename \n",
        "  dst ='/content/drive/My Drive/DietApp/ProjectDataset/incir/'+ dst\n",
        "  os.rename(src, dst) "
      ],
      "execution_count": 16,
      "outputs": []
    },
    {
      "cell_type": "code",
      "metadata": {
        "id": "BOOqzw3h0-v5",
        "outputId": "dcba2755-d2ff-4f0b-b0e7-5284a500d353",
        "colab": {
          "base_uri": "https://localhost:8080/",
          "height": 181
        }
      },
      "source": [
        "#make file\n",
        "os.mkdir('drive/My Drive/DietApp/PlateDataSet/resized-plate')"
      ],
      "execution_count": 22,
      "outputs": [
        {
          "output_type": "error",
          "ename": "FileExistsError",
          "evalue": "ignored",
          "traceback": [
            "\u001b[0;31m---------------------------------------------------------------------------\u001b[0m",
            "\u001b[0;31mFileExistsError\u001b[0m                           Traceback (most recent call last)",
            "\u001b[0;32m<ipython-input-22-f494a49a0d28>\u001b[0m in \u001b[0;36m<module>\u001b[0;34m()\u001b[0m\n\u001b[1;32m      1\u001b[0m \u001b[0;31m#make file\u001b[0m\u001b[0;34m\u001b[0m\u001b[0;34m\u001b[0m\u001b[0;34m\u001b[0m\u001b[0m\n\u001b[0;32m----> 2\u001b[0;31m \u001b[0mos\u001b[0m\u001b[0;34m.\u001b[0m\u001b[0mmkdir\u001b[0m\u001b[0;34m(\u001b[0m\u001b[0;34m'drive/My Drive/DietApp/PlateDataSet/resized-plate'\u001b[0m\u001b[0;34m)\u001b[0m\u001b[0;34m\u001b[0m\u001b[0;34m\u001b[0m\u001b[0m\n\u001b[0m",
            "\u001b[0;31mFileExistsError\u001b[0m: [Errno 17] File exists: 'drive/My Drive/DietApp/PlateDataSet/resized-plate'"
          ]
        }
      ]
    },
    {
      "cell_type": "code",
      "metadata": {
        "id": "H7LWWGz-YXjg"
      },
      "source": [
        "#Resize files\n",
        "i = 0\n",
        "for img in glob.glob('/content/drive/My Drive/DietApp/PlateDataSet/plate/*'):\n",
        "  print(img)\n",
        "  image = cv2.imread(img)\n",
        "  imgResized = cv2.resize(image, (256, 256))\n",
        "  #cv2.imwrite('drive/My Drive/DietApp/PlateDataSet/resized-plate/plate-%04i.jpg' %i, imgResized)\n",
        "  i+=1"
      ],
      "execution_count": null,
      "outputs": []
    }
  ]
}