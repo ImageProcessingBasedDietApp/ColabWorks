{
  "nbformat": 4,
  "nbformat_minor": 0,
  "metadata": {
    "colab": {
      "name": "Food101Classification.ipynb",
      "provenance": [],
      "authorship_tag": "ABX9TyObZ1iorSt2bhYZwwxBLmaG",
      "include_colab_link": true
    },
    "kernelspec": {
      "name": "python3",
      "display_name": "Python 3"
    }
  },
  "cells": [
    {
      "cell_type": "markdown",
      "metadata": {
        "id": "view-in-github",
        "colab_type": "text"
      },
      "source": [
        "<a href=\"https://colab.research.google.com/github/BernaTasel/colabWorks/blob/main/Food101Classification.ipynb\" target=\"_parent\"><img src=\"https://colab.research.google.com/assets/colab-badge.svg\" alt=\"Open In Colab\"/></a>"
      ]
    },
    {
      "cell_type": "code",
      "metadata": {
        "id": "Sgk3qFyqrzu_"
      },
      "source": [
        "#drive bağlantısı\n",
        "from google.colab import drive\n",
        "drive.mount('/content/gdrive')"
      ],
      "execution_count": null,
      "outputs": []
    },
    {
      "cell_type": "code",
      "metadata": {
        "id": "FIygUfmut147"
      },
      "source": [
        "#kaggle drive dosyası oluşturma\n",
        "import os\n",
        "os.environ['KAGGLE_CONFIG_DIR'] = \"/content/gdrive/My Drive/Kaggle\""
      ],
      "execution_count": 3,
      "outputs": []
    },
    {
      "cell_type": "code",
      "metadata": {
        "id": "y2hhPVCjwYPR"
      },
      "source": [
        "#Kaggle dosyası içine girme\n",
        "%cd /content/gdrive/My Drive/Kaggle"
      ],
      "execution_count": null,
      "outputs": []
    },
    {
      "cell_type": "code",
      "metadata": {
        "id": "vxfBLsdfwj_S"
      },
      "source": [
        "#kaggle food 101 data seti drive a yükleme\n",
        "!kaggle datasets download -d kmader/food41"
      ],
      "execution_count": null,
      "outputs": []
    },
    {
      "cell_type": "code",
      "metadata": {
        "id": "bIzfUGxQ2TaY"
      },
      "source": [
        "!ls"
      ],
      "execution_count": null,
      "outputs": []
    },
    {
      "cell_type": "code",
      "metadata": {
        "id": "1xIPWcJK2Zqb"
      },
      "source": [
        "#kaggle dosyasını unzipleme\n",
        "!unzip \\*.zip  && rm *.zip"
      ],
      "execution_count": null,
      "outputs": []
    },
    {
      "cell_type": "code",
      "metadata": {
        "id": "zbIfrCd_KwgR"
      },
      "source": [
        "#resize için kütüphaneler\n",
        "import cv2\n",
        "import glob\n",
        "import os\n",
        "import time"
      ],
      "execution_count": 9,
      "outputs": []
    },
    {
      "cell_type": "code",
      "metadata": {
        "id": "sPZ7IMNhJeI9",
        "outputId": "b4fb5c50-fd40-40c7-e752-d8c56ee19047",
        "colab": {
          "base_uri": "https://localhost:8080/",
          "height": 130
        }
      },
      "source": [
        "#Dataset resize\n",
        "data = \"/content/gdrive/My Drive/Kaggle/images\"\n",
        "folderArray = os.listdir(data)\n",
        "print(folderArray)\n",
        "\n",
        "for jtr in folderArray:\n",
        "  i = 0\n",
        "  print(jtr)\n",
        "  os.mkdir('/content/gdrive/My Drive/Kaggle/resized/' + jtr)\n",
        "  for img in glob.glob('/content/gdrive/My Drive/Kaggle/images/'+ jtr +'/*'):\n",
        "      image = cv2.imread(img)\n",
        "      imgResized = cv2.resize(image, (256,256))\n",
        "      cv2.imwrite('/content/gdrive/My Drive/Kaggle/resized/'+ jtr +'/'+ jtr +'%04i.jpg' %i, imgResized)\n",
        "     #BURDASIN os.remove('/content/gdrive/My Drive/Kaggle/resized/'+jtr+'/'+img)\n",
        "    i += 1\n"
      ],
      "execution_count": 3,
      "outputs": [
        {
          "output_type": "error",
          "ename": "IndentationError",
          "evalue": "ignored",
          "traceback": [
            "\u001b[0;36m  File \u001b[0;32m\"<ipython-input-3-f059c17c30b0>\"\u001b[0;36m, line \u001b[0;32m15\u001b[0m\n\u001b[0;31m    i += 1\u001b[0m\n\u001b[0m          ^\u001b[0m\n\u001b[0;31mIndentationError\u001b[0m\u001b[0;31m:\u001b[0m unindent does not match any outer indentation level\n"
          ]
        }
      ]
    },
    {
      "cell_type": "code",
      "metadata": {
        "id": "PWhwyORM3Vic"
      },
      "source": [
        "#Train kütüphaneleri \n",
        "!pip install tflite-model-maker\n",
        "\n",
        "import numpy as np\n",
        "\n",
        "import tensorflow as tf\n",
        "assert tf.__version__.startswith('2')\n",
        "\n",
        "from tensorflow_examples.lite.model_maker.core.data_util.image_dataloader import ImageClassifierDataLoader\n",
        "from tensorflow_examples.lite.model_maker.core.task import image_classifier\n",
        "from tensorflow_examples.lite.model_maker.core.task.model_spec import mobilenet_v2_spec\n",
        "from tensorflow_examples.lite.model_maker.core.task.model_spec import ImageModelSpec\n",
        "\n",
        "import matplotlib.pyplot as plt\n"
      ],
      "execution_count": null,
      "outputs": []
    },
    {
      "cell_type": "code",
      "metadata": {
        "id": "qkljcesN2op4"
      },
      "source": [
        "#Train işlemi \n",
        "image_path = '/content/gdrive/My Drive/Kaggle/resized'\n",
        "\n",
        "data = ImageClassifierDataLoader.from_folder(image_path)\n",
        "\n",
        "train_data, test_data = data.split(0.8)\n",
        "\n",
        "model = image_classifier.create(train_data)\n",
        "\n",
        "loss, accuracy = model.evaluate(test_data)\n",
        "\n",
        "model.export(export_dir='.', with_metadata=True)\n"
      ],
      "execution_count": null,
      "outputs": []
    }
  ]
}